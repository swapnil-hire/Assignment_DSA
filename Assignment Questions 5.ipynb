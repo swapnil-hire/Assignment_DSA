{
 "cells": [
  {
   "cell_type": "markdown",
   "id": "ccdf0602",
   "metadata": {},
   "source": [
    "# Assignment Questions 5 "
   ]
  },
  {
   "cell_type": "markdown",
   "id": "d729c0ae",
   "metadata": {},
   "source": [
    "\n",
    "💡 **Question 1**\n",
    "\n",
    "Convert 1D Array Into 2D Array\n",
    "\n",
    "You are given a **0-indexed** 1-dimensional (1D) integer array original, and two integers, m and n. You are tasked with creating a 2-dimensional (2D) array with  m rows and n columns using **all** the elements from original.\n",
    "\n",
    "The elements from indices 0 to n - 1 (**inclusive**) of original should form the first row of the constructed 2D array, the elements from indices n to 2 * n - 1 (**inclusive**) should form the second row of the constructed 2D array, and so on.\n",
    "\n",
    "Return *an* m x n *2D array constructed according to the above procedure, or an empty 2D array if it is impossible*.\n",
    "\n",
    "</aside>"
   ]
  },
  {
   "cell_type": "code",
   "execution_count": 1,
   "id": "20c70a2e",
   "metadata": {},
   "outputs": [],
   "source": [
    "def convert_to_2d_array(original, m, n):\n",
    "    if len(original) != m * n:\n",
    "        return []  # Return an empty 2D array if the elements are not sufficient\n",
    "\n",
    "    result = [[0] * n for _ in range(m)]  # Initialize the 2D array with zeros\n",
    "\n",
    "    for i in range(len(original)):\n",
    "        row = i // n  # Calculate the row index\n",
    "        col = i % n  # Calculate the column index\n",
    "        result[row][col] = original[i]  # Assign the element to the corresponding position in the 2D array\n",
    "\n",
    "    return result"
   ]
  },
  {
   "cell_type": "markdown",
   "id": "5aef7c35",
   "metadata": {},
   "source": [
    "**Input:** original = [1,2,3,4], m = 2, n = 2\n",
    "\n",
    "**Output:** [[1,2],[3,4]]"
   ]
  },
  {
   "cell_type": "code",
   "execution_count": 2,
   "id": "a963c2ab",
   "metadata": {},
   "outputs": [
    {
     "data": {
      "text/plain": [
       "[[1, 2], [3, 4]]"
      ]
     },
     "execution_count": 2,
     "metadata": {},
     "output_type": "execute_result"
    }
   ],
   "source": [
    " original = [1,2,3,4]\n",
    "m = 2\n",
    "n = 2\n",
    "convert_to_2d_array(original, m, n)"
   ]
  },
  {
   "cell_type": "markdown",
   "id": "70fe6634",
   "metadata": {},
   "source": [
    "\n",
    "💡 **Question 2**\n",
    "\n",
    "You have n coins and you want to build a staircase with these coins. The staircase consists of k rows where the ith row has exactly i coins. The last row of the staircase **may be** incomplete.\n",
    "\n",
    "Given the integer n, return *the number of **complete rows** of the staircase you will build*.\n"
   ]
  },
  {
   "cell_type": "code",
   "execution_count": 3,
   "id": "cb241eca",
   "metadata": {},
   "outputs": [
    {
     "name": "stdout",
     "output_type": "stream",
     "text": [
      "2\n"
     ]
    }
   ],
   "source": [
    "def arrangeCoins(n):\n",
    "    left = 0\n",
    "    right = n\n",
    "\n",
    "    while left <= right:\n",
    "        mid = left + (right - left) // 2\n",
    "        coins_needed = (mid * (mid + 1)) // 2\n",
    "\n",
    "        if coins_needed == n:\n",
    "            return mid\n",
    "        elif coins_needed < n:\n",
    "            left = mid + 1\n",
    "        else:\n",
    "            right = mid - 1\n",
    "\n",
    "    return right\n",
    "\n",
    "# Example usage\n",
    "n = 5\n",
    "complete_rows = arrangeCoins(n)\n",
    "print(complete_rows)"
   ]
  },
  {
   "cell_type": "markdown",
   "id": "5b693e6a",
   "metadata": {},
   "source": [
    "\n",
    "💡 **Question 3**\n",
    "\n",
    "Given an integer array nums sorted in **non-decreasing** order, return *an array of **the squares of each number** sorted in non-decreasing order*.\n",
    "\n",
    "**Example 1:**\n",
    "\n",
    "**Input:** nums = [-4,-1,0,3,10]\n",
    "\n",
    "**Output:** [0,1,9,16,100]\n",
    "\n",
    "**Explanation:** After squaring, the array becomes [16,1,0,9,100].\n",
    "\n",
    "After sorting, it becomes [0,1,9,16,100].\n"
   ]
  },
  {
   "cell_type": "code",
   "execution_count": 4,
   "id": "2a06a9be",
   "metadata": {},
   "outputs": [
    {
     "name": "stdout",
     "output_type": "stream",
     "text": [
      "[0, 1, 9, 16, 100]\n"
     ]
    }
   ],
   "source": [
    "def sorted_squares(nums):\n",
    "    n = len(nums)\n",
    "    result = [0] * n\n",
    "    left, right = 0, n - 1\n",
    "    idx = n - 1\n",
    "\n",
    "    while left <= right:\n",
    "        if abs(nums[left]) > abs(nums[right]):\n",
    "            result[idx] = nums[left] ** 2\n",
    "            left += 1\n",
    "        else:\n",
    "            result[idx] = nums[right] ** 2\n",
    "            right -= 1\n",
    "        idx -= 1\n",
    "\n",
    "    return result\n",
    "\n",
    "# Example usage\n",
    "nums = [-4, -1, 0, 3, 10]\n",
    "squared_nums = sorted_squares(nums)\n",
    "print(squared_nums)"
   ]
  },
  {
   "cell_type": "markdown",
   "id": "15501746",
   "metadata": {},
   "source": [
    "**Question 4**\n",
    "Given two **0-indexed** integer arrays nums1 and nums2, return *a list* answer *of size* 2 *where:*\n",
    "\n",
    "- answer[0] *is a list of all **distinct** integers in* nums1 *which are **not** present in* nums2*.*\n",
    "- answer[1] *is a list of all **distinct** integers in* nums2 *which are **not** present in* nums1.\n",
    "\n",
    "**Note** that the integers in the lists may be returned in **any** order.\n",
    "\n",
    "**Example 1:**\n",
    "\n",
    "**Input:** nums1 = [1,2,3], nums2 = [2,4,6]\n",
    "\n",
    "**Output:** [[1,3],[4,6]]\n",
    "\n",
    "**Explanation:**\n",
    "\n",
    "For nums1, nums1[1] = 2 is present at index 0 of nums2, whereas nums1[0] = 1 and nums1[2] = 3 are not present in nums2. Therefore, answer[0] = [1,3].\n",
    "\n",
    "For nums2, nums2[0] = 2 is present at index 1 of nums1, whereas nums2[1] = 4 and nums2[2] = 6 are not present in nums2. Therefore, answer[1] = [4,6]."
   ]
  },
  {
   "cell_type": "code",
   "execution_count": 5,
   "id": "22a52099",
   "metadata": {},
   "outputs": [
    {
     "name": "stdout",
     "output_type": "stream",
     "text": [
      "[[1, 3], [4, 6]]\n"
     ]
    }
   ],
   "source": [
    "def find_disjoint_nums(nums1, nums2):\n",
    "    set_nums1 = set(nums1)\n",
    "    set_nums2 = set(nums2)\n",
    "\n",
    "    distinct_nums1 = set_nums1 - set_nums2\n",
    "    distinct_nums2 = set_nums2 - set_nums1\n",
    "\n",
    "    return [list(distinct_nums1), list(distinct_nums2)]\n",
    "\n",
    "# Example usage\n",
    "nums1 = [1,2,3]\n",
    "nums2 = [2,4,6]\n",
    "answer = find_disjoint_nums(nums1, nums2)\n",
    "print(answer)"
   ]
  },
  {
   "cell_type": "code",
   "execution_count": 6,
   "id": "7b98c671",
   "metadata": {},
   "outputs": [
    {
     "name": "stdout",
     "output_type": "stream",
     "text": [
      "[[1, 4, 5], [6, 7]]\n"
     ]
    }
   ],
   "source": [
    "nums1 = [1, 2, 2, 3, 4, 5]\n",
    "nums2 = [2, 3, 3, 6, 7]\n",
    "answer = find_disjoint_nums(nums1, nums2)\n",
    "print(answer)"
   ]
  },
  {
   "cell_type": "markdown",
   "id": "4fe9a970",
   "metadata": {},
   "source": [
    "\n",
    "💡 **Question 5**\n",
    "\n",
    "Given two integer arrays arr1 and arr2, and the integer d, *return the distance value between the two arrays*.\n",
    "\n",
    "The distance value is defined as the number of elements arr1[i] such that there is not any element arr2[j] where |arr1[i]-arr2[j]| <= d.\n",
    "\n",
    "**Example 1:**\n",
    "\n",
    "**Input:** arr1 = [4,5,8], arr2 = [10,9,1,8], d = 2\n",
    "\n",
    "**Output:** 2\n",
    "\n",
    "**Explanation:**\n",
    "\n",
    "For arr1[0]=4 we have:\n",
    "\n",
    "|4-10|=6 > d=2\n",
    "\n",
    "|4-9|=5 > d=2\n",
    "\n",
    "|4-1|=3 > d=2\n",
    "\n",
    "|4-8|=4 > d=2\n",
    "\n",
    "For arr1[1]=5 we have:\n",
    "\n",
    "|5-10|=5 > d=2\n",
    "\n",
    "|5-9|=4 > d=2\n",
    "\n",
    "|5-1|=4 > d=2\n",
    "\n",
    "|5-8|=3 > d=2\n",
    "\n",
    "For arr1[2]=8 we have:\n",
    "\n",
    "**|8-10|=2 <= d=2**\n",
    "\n",
    "**|8-9|=1 <= d=2**\n",
    "\n",
    "|8-1|=7 > d=2\n",
    "\n",
    "**|8-8|=0 <= d=2**\n",
    "\n"
   ]
  },
  {
   "cell_type": "code",
   "execution_count": 7,
   "id": "1ead951f",
   "metadata": {},
   "outputs": [],
   "source": [
    "def distance_value(arr1, arr2, d):\n",
    "    count = 0\n",
    "    for num1 in arr1:\n",
    "        found = False\n",
    "        for num2 in arr2:\n",
    "            if abs(num1 - num2) <= d:\n",
    "                found = True\n",
    "                break\n",
    "        if not found:\n",
    "            count += 1\n",
    "    return count\n",
    "\n"
   ]
  },
  {
   "cell_type": "code",
   "execution_count": 8,
   "id": "37c4bf50",
   "metadata": {},
   "outputs": [
    {
     "name": "stdout",
     "output_type": "stream",
     "text": [
      "2\n"
     ]
    }
   ],
   "source": [
    "# Example usage\n",
    "arr1 = [4, 5, 8]\n",
    "arr2 = [10, 9, 1, 8]\n",
    "d = 2\n",
    "distance = distance_value(arr1, arr2, d)\n",
    "print(distance)"
   ]
  },
  {
   "cell_type": "markdown",
   "id": "fd096799",
   "metadata": {},
   "source": [
    "\n",
    "💡 **Question 6**\n",
    "\n",
    "Given an integer array nums of length n where all the integers of nums are in the range [1, n] and each integer appears **once** or **twice**, return *an array of all the integers that appears **twice***.\n",
    "\n",
    "You must write an algorithm that runs in O(n) time and uses only constant extra space.\n",
    "\n",
    "**Example 1:**\n",
    "\n",
    "**Input:** nums = [4,3,2,7,8,2,3,1]\n",
    "\n",
    "**Output:**\n",
    "\n",
    "[2,3]\n",
    "\n"
   ]
  },
  {
   "cell_type": "code",
   "execution_count": 9,
   "id": "6e402aac",
   "metadata": {},
   "outputs": [],
   "source": [
    "def findDuplicates(nums):\n",
    "    result = []\n",
    "    for num in nums:\n",
    "        index = abs(num) - 1\n",
    "        if nums[index] > 0:\n",
    "            nums[index] *= -1\n",
    "        else:\n",
    "            result.append(abs(num))\n",
    "    return result\n",
    "\n"
   ]
  },
  {
   "cell_type": "code",
   "execution_count": 10,
   "id": "37fc708d",
   "metadata": {},
   "outputs": [
    {
     "name": "stdout",
     "output_type": "stream",
     "text": [
      "[2, 3]\n"
     ]
    }
   ],
   "source": [
    "# Example usage\n",
    "nums = [4, 3, 2, 7, 8, 2, 3, 1]\n",
    "duplicates = findDuplicates(nums)\n",
    "print(duplicates)"
   ]
  },
  {
   "cell_type": "markdown",
   "id": "882912ef",
   "metadata": {},
   "source": [
    "\n",
    "💡 **Question 7**\n",
    "\n",
    "Suppose an array of length n sorted in ascending order is **rotated** between 1 and n times. For example, the array nums = [0,1,2,4,5,6,7] might become:\n",
    "\n",
    "- [4,5,6,7,0,1,2] if it was rotated 4 times.\n",
    "- [0,1,2,4,5,6,7] if it was rotated 7 times.\n",
    "\n",
    "Notice that **rotating** an array [a[0], a[1], a[2], ..., a[n-1]] 1 time results in the array [a[n-1], a[0], a[1], a[2], ..., a[n-2]].\n",
    "\n",
    "Given the sorted rotated array nums of **unique** elements, return *the minimum element of this array*.\n",
    "\n",
    "You must write an algorithm that runs in O(log n) time.\n",
    "\n",
    "**Example 1:**\n",
    "\n",
    "**Input:** nums = [3,4,5,1,2]\n",
    "\n",
    "**Output:** 1\n",
    "\n",
    "**Explanation:**\n",
    "\n",
    "The original array was [1,2,3,4,5] rotated 3 times.\n",
    "\n"
   ]
  },
  {
   "cell_type": "code",
   "execution_count": 11,
   "id": "536805c5",
   "metadata": {},
   "outputs": [],
   "source": [
    "def findMin(nums):\n",
    "    left = 0\n",
    "    right = len(nums) - 1\n",
    "\n",
    "    while left < right:\n",
    "        mid = left + (right - left) // 2\n",
    "\n",
    "        if nums[mid] > nums[right]:\n",
    "            left = mid + 1\n",
    "        else:\n",
    "            right = mid\n",
    "\n",
    "    return nums[left]"
   ]
  },
  {
   "cell_type": "code",
   "execution_count": 12,
   "id": "aadd62c9",
   "metadata": {},
   "outputs": [
    {
     "name": "stdout",
     "output_type": "stream",
     "text": [
      "1\n"
     ]
    }
   ],
   "source": [
    "# Example usage\n",
    "nums = [3,4,5,1,2]\n",
    "minimum = findMin(nums)\n",
    "print(minimum)"
   ]
  },
  {
   "cell_type": "markdown",
   "id": "87e0b9f9",
   "metadata": {},
   "source": [
    "<aside>\n",
    "💡 **Question 8**\n",
    "\n",
    "An integer array original is transformed into a **doubled** array changed by appending **twice the value** of every element in original, and then randomly **shuffling** the resulting array.\n",
    "\n",
    "Given an array changed, return original *if* changed *is a **doubled** array. If* changed *is not a **doubled** array, return an empty array. The elements in* original *may be returned in **any** order*.\n",
    "\n",
    "**Example 1:**\n",
    "\n",
    "**Input:** changed = [1,3,4,2,6,8]\n",
    "\n",
    "**Output:** [1,3,4]\n",
    "\n",
    "**Explanation:** One possible original array could be [1,3,4]:\n",
    "\n",
    "- Twice the value of 1 is 1 * 2 = 2.\n",
    "- Twice the value of 3 is 3 * 2 = 6.\n",
    "- Twice the value of 4 is 4 * 2 = 8.\n",
    "\n",
    "Other original arrays could be [4,3,1] or [3,1,4].\n",
    "\n",
    "</aside>"
   ]
  },
  {
   "cell_type": "code",
   "execution_count": 13,
   "id": "65aae542",
   "metadata": {},
   "outputs": [],
   "source": [
    "from collections import Counter\n",
    "\n",
    "def findOriginalArray(changed):\n",
    "    if len(changed) % 2 != 0:\n",
    "        return []\n",
    "\n",
    "    count = Counter(changed)\n",
    "\n",
    "    original = []\n",
    "    for num in changed:\n",
    "        if count[num] == 0:\n",
    "            continue\n",
    "        if count[2 * num] == 0:\n",
    "            return []\n",
    "        count[num] -= 1\n",
    "        count[2 * num] -= 1\n",
    "        original.append(num)\n",
    "\n",
    "    return original\n",
    "\n"
   ]
  },
  {
   "cell_type": "code",
   "execution_count": 14,
   "id": "b2d5a1b0",
   "metadata": {},
   "outputs": [
    {
     "name": "stdout",
     "output_type": "stream",
     "text": [
      "[1, 3, 4]\n"
     ]
    }
   ],
   "source": [
    "# Example usage\n",
    "changed = [1, 3, 4, 2, 6, 8]\n",
    "original = findOriginalArray(changed)\n",
    "print(original)"
   ]
  },
  {
   "cell_type": "code",
   "execution_count": null,
   "id": "6619ce58",
   "metadata": {},
   "outputs": [],
   "source": []
  }
 ],
 "metadata": {
  "kernelspec": {
   "display_name": "Python 3 (ipykernel)",
   "language": "python",
   "name": "python3"
  },
  "language_info": {
   "codemirror_mode": {
    "name": "ipython",
    "version": 3
   },
   "file_extension": ".py",
   "mimetype": "text/x-python",
   "name": "python",
   "nbconvert_exporter": "python",
   "pygments_lexer": "ipython3",
   "version": "3.9.12"
  }
 },
 "nbformat": 4,
 "nbformat_minor": 5
}
