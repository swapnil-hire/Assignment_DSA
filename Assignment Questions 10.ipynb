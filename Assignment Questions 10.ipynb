{
 "cells": [
  {
   "cell_type": "markdown",
   "id": "1704280f",
   "metadata": {},
   "source": [
    "# Assignment Questions 10"
   ]
  },
  {
   "cell_type": "markdown",
   "id": "b1d1d72b",
   "metadata": {},
   "source": [
    "**1**\n",
    "Given an integer `n`, return *`true` if it is a power of three. Otherwise, return `false`*.\n",
    "\n",
    "An integer `n` is a power of three, if there exists an integer `x` such that `n == 3x`.\n",
    "\n"
   ]
  },
  {
   "cell_type": "code",
   "execution_count": 1,
   "id": "9da664f0",
   "metadata": {},
   "outputs": [],
   "source": [
    "def isPowerOfThree(n):\n",
    "    if n == 1:\n",
    "        return True\n",
    "    elif n < 1 or n % 3 != 0:\n",
    "        return False\n",
    "    else:\n",
    "        return isPowerOfThree(n // 3)"
   ]
  },
  {
   "cell_type": "code",
   "execution_count": 2,
   "id": "5e664a83",
   "metadata": {},
   "outputs": [
    {
     "name": "stdout",
     "output_type": "stream",
     "text": [
      "True\n"
     ]
    }
   ],
   "source": [
    "print(isPowerOfThree(27))  # Output: True"
   ]
  },
  {
   "cell_type": "markdown",
   "id": "b7e319b6",
   "metadata": {},
   "source": [
    "**2**\n",
    "You have a list `arr` of all integers in the range `[1, n]` sorted in a strictly increasing order. Apply the following algorithm on `arr`:\n",
    "\n",
    "- Starting from left to right, remove the first number and every other number afterward until you reach the end of the list.\n",
    "- Repeat the previous step again, but this time from right to left, remove the rightmost number and every other number from the remaining numbers.\n",
    "- Keep repeating the steps again, alternating left to right and right to left, until a single number remains.\n",
    "\n",
    "Given the integer `n`, return *the last number that remains in* `arr`."
   ]
  },
  {
   "cell_type": "code",
   "execution_count": 3,
   "id": "ecaf9079",
   "metadata": {},
   "outputs": [],
   "source": [
    "def lastRemaining(n):\n",
    "    if n == 1:\n",
    "        return 1\n",
    "    else:\n",
    "        arr = list(range(1, n + 1))\n",
    "        return removeNumbers(arr, True)\n",
    "\n",
    "\n",
    "def removeNumbers(arr, isLeftToRight):\n",
    "    if len(arr) == 1:\n",
    "        return arr[0]\n",
    "    else:\n",
    "        if isLeftToRight:\n",
    "            new_arr = arr[1::2]  # Remove every other number starting from the second number\n",
    "        else:\n",
    "            new_arr = arr[:-1:2]  # Remove every other number starting from the last number\n",
    "\n",
    "        return removeNumbers(new_arr, not isLeftToRight)\n",
    "\n",
    "\n",
    "\n"
   ]
  },
  {
   "cell_type": "code",
   "execution_count": 4,
   "id": "601e0e22",
   "metadata": {},
   "outputs": [
    {
     "data": {
      "text/plain": [
       "6"
      ]
     },
     "execution_count": 4,
     "metadata": {},
     "output_type": "execute_result"
    }
   ],
   "source": [
    " n = 9\n",
    "lastRemaining(n)"
   ]
  },
  {
   "cell_type": "markdown",
   "id": "d1724c36",
   "metadata": {},
   "source": [
    "\n",
    " **Question 3**\n",
    "\n",
    "****Given a set represented as a string, write a recursive code to print all subsets of it. The subsets can be printed in any order.\n",
    "\n",
    "**Example 1:**\n",
    "\n",
    "Input :  set = “abc”\n",
    "\n",
    "Output : { “”, “a”, “b”, “c”, “ab”, “ac”, “bc”, “abc”}\n",
    "\n",
    "</aside>"
   ]
  },
  {
   "cell_type": "code",
   "execution_count": 5,
   "id": "a3dbf028",
   "metadata": {},
   "outputs": [],
   "source": [
    "def printSubsets(s):\n",
    "    subsets = []\n",
    "    generateSubsets(s, \"\", 0, subsets)\n",
    "    print(subsets)\n",
    "\n",
    "def generateSubsets(s, current, index, subsets):\n",
    "    if index == len(s):\n",
    "        subsets.append(current)\n",
    "        return\n",
    "    \n",
    "    # Exclude the current character\n",
    "    generateSubsets(s, current, index + 1, subsets)\n",
    "    \n",
    "    # Include the current character\n",
    "    generateSubsets(s, current + s[index], index + 1, subsets)\n"
   ]
  },
  {
   "cell_type": "code",
   "execution_count": 6,
   "id": "1419be85",
   "metadata": {},
   "outputs": [
    {
     "name": "stdout",
     "output_type": "stream",
     "text": [
      "['', 'c', 'b', 'bc', 'a', 'ac', 'ab', 'abc']\n"
     ]
    }
   ],
   "source": [
    "printSubsets(\"abc\")\n"
   ]
  },
  {
   "cell_type": "markdown",
   "id": "3e7c4ca4",
   "metadata": {},
   "source": [
    "\n",
    " **Question 4**\n",
    "\n",
    "Given a string calculate length of the string using recursion.\n",
    "\n",
    "\n",
    "\n"
   ]
  },
  {
   "cell_type": "code",
   "execution_count": 7,
   "id": "705d45c1",
   "metadata": {},
   "outputs": [],
   "source": [
    "def calculateLength(s):\n",
    "    if s == '':\n",
    "        return 0\n",
    "    else:\n",
    "        return 1 + calculateLength(s[1:])\n"
   ]
  },
  {
   "cell_type": "code",
   "execution_count": 8,
   "id": "1012ba1e",
   "metadata": {},
   "outputs": [
    {
     "name": "stdout",
     "output_type": "stream",
     "text": [
      "4\n",
      "13\n"
     ]
    }
   ],
   "source": [
    "print(calculateLength(\"abcd\"))       \n",
    "print(calculateLength(\"GEEKSFORGEEKS\"))  \n"
   ]
  },
  {
   "cell_type": "markdown",
   "id": "b710fd46",
   "metadata": {},
   "source": [
    "\n",
    "💡 **Question 5**\n",
    "\n",
    "We are given a string S, we need to find count of all contiguous substrings starting and ending with same character.\n",
    "\n"
   ]
  },
  {
   "cell_type": "code",
   "execution_count": 9,
   "id": "41f2c45e",
   "metadata": {},
   "outputs": [],
   "source": [
    "def countSubstrings(S):\n",
    "    count = 0\n",
    "    for i in range(len(S)):\n",
    "        for j in range(i, len(S)):\n",
    "            if S[i] == S[j]:\n",
    "                count += 1\n",
    "    return count\n"
   ]
  },
  {
   "cell_type": "code",
   "execution_count": 10,
   "id": "6e10ddbd",
   "metadata": {},
   "outputs": [
    {
     "name": "stdout",
     "output_type": "stream",
     "text": [
      "3\n"
     ]
    }
   ],
   "source": [
    "print(countSubstrings('abc'))  "
   ]
  },
  {
   "cell_type": "code",
   "execution_count": 11,
   "id": "f5210000",
   "metadata": {},
   "outputs": [
    {
     "name": "stdout",
     "output_type": "stream",
     "text": [
      "7\n"
     ]
    }
   ],
   "source": [
    "print(countSubstrings('abcab'))  "
   ]
  },
  {
   "cell_type": "markdown",
   "id": "92c025fa",
   "metadata": {},
   "source": [
    "\n",
    "💡 **Question 6**\n",
    "\n",
    "The [tower of Hanoi](https://en.wikipedia.org/wiki/Tower_of_Hanoi) is a famous puzzle where we have three rods and **N** disks. The objective of the puzzle is to move the entire stack to another rod. You are given the number of discs **N**. Initially, these discs are in the rod 1. You need to print all the steps of discs movement so that all the discs reach the 3rd rod. Also, you need to find the total moves.**Note:** The discs are arranged such that the **top disc is numbered 1** and the **bottom-most disc is numbered N**. Also, all the discs have **different sizes** and a bigger disc **cannot** be put on the top of a smaller disc. Refer the provided link to get a better clarity about the puzzle.\n",
    "\n"
   ]
  },
  {
   "cell_type": "code",
   "execution_count": 12,
   "id": "ebeea7d0",
   "metadata": {},
   "outputs": [],
   "source": [
    "def towerOfHanoi(n, source, destination, auxiliary):\n",
    "    if n == 1:\n",
    "        print(\"Move disc 1 from rod\", source, \"to rod\", destination)\n",
    "        return 1\n",
    "    \n",
    "    moves = 0\n",
    "    \n",
    "    # Move n-1 discs from source to auxiliary rod\n",
    "    moves += towerOfHanoi(n-1, source, auxiliary, destination)\n",
    "    \n",
    "    # Move the largest disc from source to destination rod\n",
    "    print(\"Move disc\", n, \"from rod\", source, \"to rod\", destination)\n",
    "    moves += 1\n",
    "    \n",
    "    # Move the remaining n-1 discs from auxiliary to destination rod\n",
    "    moves += towerOfHanoi(n-1, auxiliary, destination, source)\n",
    "    \n",
    "    return moves\n"
   ]
  },
  {
   "cell_type": "code",
   "execution_count": 13,
   "id": "f6945e73",
   "metadata": {},
   "outputs": [
    {
     "name": "stdout",
     "output_type": "stream",
     "text": [
      "Move disc 1 from rod 1 to rod 3\n",
      "Move disc 2 from rod 1 to rod 2\n",
      "Move disc 1 from rod 3 to rod 2\n",
      "Move disc 3 from rod 1 to rod 3\n",
      "Move disc 1 from rod 2 to rod 1\n",
      "Move disc 2 from rod 2 to rod 3\n",
      "Move disc 1 from rod 1 to rod 3\n",
      "Total moves: 7\n"
     ]
    }
   ],
   "source": [
    "n = 3\n",
    "total_moves = towerOfHanoi(n, 1, 3, 2)\n",
    "print(\"Total moves:\", total_moves)\n"
   ]
  },
  {
   "cell_type": "markdown",
   "id": "c5ae0748",
   "metadata": {},
   "source": [
    "\n",
    "💡 **Question 7**\n",
    "\n",
    "Given a string **str**, the task is to print all the permutations of **str**. A **permutation** is an arrangement of all or part of a set of objects, with regard to the order of the arrangement. For instance, the words ‘bat’ and ‘tab’ represents two distinct permutation (or arrangements) of a similar three letter word.\n",
    "\n",
    "**Examples:**\n",
    "\n",
    "> Input: str = “cd”\n",
    "> \n",
    "> \n",
    "> **Output:** cd dc\n",
    "> \n",
    "> **Input:** str = “abb”\n",
    "> \n",
    "> **Output:** abb abb bab bba bab bba\n",
    "> \n"
   ]
  },
  {
   "cell_type": "code",
   "execution_count": 14,
   "id": "bb493510",
   "metadata": {},
   "outputs": [],
   "source": [
    "def printPermutations(s, start, end):\n",
    "    if start == end:\n",
    "        print(''.join(s))\n",
    "    else:\n",
    "        for i in range(start, end + 1):\n",
    "            s[start], s[i] = s[i], s[start]  # Swap characters\n",
    "            printPermutations(s, start + 1, end)  # Recursively generate permutations\n",
    "            s[start], s[i] = s[i], s[start]  # Undo the swap\n",
    "\n",
    "def permutations(str):\n",
    "    n = len(str)\n",
    "    s = list(str)\n",
    "    printPermutations(s, 0, n - 1)\n"
   ]
  },
  {
   "cell_type": "code",
   "execution_count": 15,
   "id": "f586cdf6",
   "metadata": {},
   "outputs": [
    {
     "name": "stdout",
     "output_type": "stream",
     "text": [
      "cd\n",
      "dc\n"
     ]
    }
   ],
   "source": [
    "permutations('cd')\n"
   ]
  },
  {
   "cell_type": "code",
   "execution_count": 16,
   "id": "f89d8c87",
   "metadata": {},
   "outputs": [
    {
     "name": "stdout",
     "output_type": "stream",
     "text": [
      "abb\n",
      "abb\n",
      "bab\n",
      "bba\n",
      "bba\n",
      "bab\n"
     ]
    }
   ],
   "source": [
    "permutations('abb')"
   ]
  },
  {
   "cell_type": "markdown",
   "id": "881c7159",
   "metadata": {},
   "source": [
    "\n",
    "💡 **Question 8**\n",
    "\n",
    "Given a string, count total number of consonants in it. A consonant is an English alphabet character that is not vowel (a, e, i, o and u). Examples of constants are b, c, d, f, and g.\n"
   ]
  },
  {
   "cell_type": "code",
   "execution_count": 17,
   "id": "a4876c84",
   "metadata": {},
   "outputs": [],
   "source": [
    "def countConsonants(s):\n",
    "    if len(s) == 0:\n",
    "        return 0\n",
    "    \n",
    "    first_char = s[0].lower()  # Convert the character to lowercase for comparison\n",
    "    \n",
    "    # Check if the first character is a consonant\n",
    "    if first_char.isalpha() and first_char not in ['a', 'e', 'i', 'o', 'u']:\n",
    "        return 1 + countConsonants(s[1:])\n",
    "    else:\n",
    "        return countConsonants(s[1:])\n"
   ]
  },
  {
   "cell_type": "code",
   "execution_count": 18,
   "id": "c3311acc",
   "metadata": {},
   "outputs": [
    {
     "name": "stdout",
     "output_type": "stream",
     "text": [
      "12\n"
     ]
    }
   ],
   "source": [
    "print(countConsonants('geeksforgeeks portal')) "
   ]
  },
  {
   "cell_type": "code",
   "execution_count": null,
   "id": "4a8eb721",
   "metadata": {},
   "outputs": [],
   "source": []
  }
 ],
 "metadata": {
  "kernelspec": {
   "display_name": "Python 3 (ipykernel)",
   "language": "python",
   "name": "python3"
  },
  "language_info": {
   "codemirror_mode": {
    "name": "ipython",
    "version": 3
   },
   "file_extension": ".py",
   "mimetype": "text/x-python",
   "name": "python",
   "nbconvert_exporter": "python",
   "pygments_lexer": "ipython3",
   "version": "3.9.12"
  }
 },
 "nbformat": 4,
 "nbformat_minor": 5
}
